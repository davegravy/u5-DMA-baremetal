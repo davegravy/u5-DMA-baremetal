{
 "cells": [
  {
   "cell_type": "code",
   "execution_count": 23,
   "id": "144a7393",
   "metadata": {},
   "outputs": [],
   "source": [
    "import serial\n",
    "import crc8\n",
    "import matplotlib.pyplot as plt\n",
    "import matplotlib.animation as animation\n",
    "import numpy as np\n",
    "\n",
    "\n"
   ]
  },
  {
   "cell_type": "code",
   "execution_count": 32,
   "id": "38967090",
   "metadata": {},
   "outputs": [],
   "source": [
    "ser = serial.Serial()\n",
    "ser.baudrate = 1700000\n",
    "ser.port = \"COM3\"\n",
    "ser.open()\n",
    "ser.reset_input_buffer()"
   ]
  },
  {
   "cell_type": "code",
   "execution_count": 33,
   "id": "74c30ab7",
   "metadata": {},
   "outputs": [
    {
     "name": "stdout",
     "output_type": "stream",
     "text": [
      "bytes read:  65532\n"
     ]
    }
   ],
   "source": [
    "hash = crc8.crc8()\n",
    "samples = []\n",
    "\n",
    "\n",
    "bytes_read = ser.read(65532)\n",
    "#bytes_read = ser.read(12)\n",
    "print(\"bytes read: \", str(len(bytes_read)))\n",
    "\n",
    "for idx, val in enumerate(bytes_read):\n",
    "    if idx % 4 == 0:\n",
    "        #print(bytes([bytes_read[idx],bytes_read[idx+1],bytes_read[idx+2],bytes_read[idx+3]]).hex())\n",
    "        #if idx >= 7:\n",
    "        #    print(\"exiting\")\n",
    "        #    exit()\n",
    "        hash.update(b'\\x56' + bytes([bytes_read[idx+1],bytes_read[idx+2],bytes_read[idx+3]]))\n",
    "        if hash.digest() == bytes([bytes_read[idx]]):\n",
    "            val = int.from_bytes(bytes_read[idx+1:idx+4],'little',signed=True) -158763-350\n",
    "            samples.append(val)\n",
    "\n",
    "        else: \n",
    "            print(hash.digest().hex(), bytes([bytes_read[idx]]).hex())\n",
    "            print(bytes([bytes_read[idx+1],bytes_read[idx+2],bytes_read[idx+3]]).hex())\n",
    "            exit()\n",
    "\n",
    "    #if b not in [65,66,67,68]:\n",
    "        #print(\"data error\")\n"
   ]
  },
  {
   "cell_type": "code",
   "execution_count": 34,
   "id": "e1edecfa",
   "metadata": {},
   "outputs": [],
   "source": [
    "samples_sqd = np.power(samples,2)\n"
   ]
  },
  {
   "cell_type": "code",
   "execution_count": 35,
   "id": "27c5330c",
   "metadata": {},
   "outputs": [
    {
     "data": {
      "text/plain": [
       "2106185694"
      ]
     },
     "execution_count": 35,
     "metadata": {},
     "output_type": "execute_result"
    }
   ],
   "source": [
    "#sum_sqd = np.sum(samples_sqd)\n",
    "#sum_sqd\n",
    "sum=int(0)\n",
    "for sample in samples_sqd:\n",
    "   sum+= int(sample)\n",
    "sum"
   ]
  },
  {
   "cell_type": "code",
   "execution_count": 36,
   "id": "5854aefc",
   "metadata": {},
   "outputs": [],
   "source": [
    "rms = np.sqrt(sum / len(samples_sqd))"
   ]
  },
  {
   "cell_type": "code",
   "execution_count": 37,
   "id": "31da1cd3",
   "metadata": {},
   "outputs": [
    {
     "data": {
      "text/plain": [
       "-87.38276573246924"
      ]
     },
     "execution_count": 37,
     "metadata": {},
     "output_type": "execute_result"
    }
   ],
   "source": [
    "20*np.log10(rms/(2**24/2))"
   ]
  },
  {
   "cell_type": "code",
   "execution_count": 38,
   "id": "d07b9773",
   "metadata": {},
   "outputs": [
    {
     "data": {
      "text/plain": [
       "[<matplotlib.lines.Line2D at 0x1ce056644c0>]"
      ]
     },
     "execution_count": 38,
     "metadata": {},
     "output_type": "execute_result"
    },
    {
     "data": {
      "image/png": "[encoded data removed]",
      "text/plain": [
       "<Figure size 432x288 with 1 Axes>"
      ]
     },
     "metadata": {
      "needs_background": "light"
     },
     "output_type": "display_data"
    }
   ],
   "source": [
    "fig = plt.figure()\n",
    "ax = fig.add_subplot(1, 1, 1)\n",
    "ax.plot(np.arange(start=0, stop=16383, step=1),samples)"
   ]
  },
  {
   "cell_type": "code",
   "execution_count": null,
   "id": "4ecff719",
   "metadata": {},
   "outputs": [],
   "source": []
  }
 ],
 "metadata": {
  "kernelspec": {
   "display_name": "Python 3 (ipykernel)",
   "language": "python",
   "name": "python3"
  },
  "language_info": {
   "codemirror_mode": {
    "name": "ipython",
    "version": 3
   },
   "file_extension": ".py",
   "mimetype": "text/x-python",
   "name": "python",
   "nbconvert_exporter": "python",
   "pygments_lexer": "ipython3",
   "version": "3.9.10"
  }
 },
 "nbformat": 4,
 "nbformat_minor": 5
}
